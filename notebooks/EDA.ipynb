{
 "cells": [
  {
   "cell_type": "code",
   "execution_count": null,
   "id": "b3b19d68",
   "metadata": {
    "vscode": {
     "languageId": "plaintext"
    }
   },
   "outputs": [],
   "source": [
    "import pandas as pd\n",
    "\n",
    "# Load one of your new CSV files to inspect it\n",
    "# Make sure to use the correct path and filename\n",
    "df = pd.read_csv('../data/raw/linkedin-jobs-usa.csv')\n",
    "\n",
    "# See the first 5 rows to understand the columns\n",
    "print(\"First 5 rows:\")\n",
    "display(df.head())\n",
    "\n",
    "# Get a summary of all columns and their data types\n",
    "print(\"\\nDataset Info:\")\n",
    "df.info()"
   ]
  }
 ],
 "metadata": {
  "language_info": {
   "name": "python"
  }
 },
 "nbformat": 4,
 "nbformat_minor": 5
}
